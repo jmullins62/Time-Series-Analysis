{
  "nbformat": 4,
  "nbformat_minor": 5,
  "metadata": {
    "noteable-chatgpt": {
      "create_notebook": {
        "openai_conversation_id": "2dadf184-d95d-5d67-939e-a458ef65f877",
        "openai_ephemeral_user_id": "1976e6f0-353c-59a1-ae60-04d7ab77b7e7",
        "openai_subdivision1_iso_code": "US-TX"
      }
    },
    "kernel_info": {
      "name": "python3"
    },
    "noteable": {
      "last_transaction_id": "3183261d-c4a6-482f-97c9-e260a0d09f81"
    },
    "kernelspec": {
      "display_name": "Python 3.9",
      "language": "python",
      "name": "python3"
    }
  },
  "cells": [
    {
      "id": "09b8a950-2cb9-4391-92cc-3e5f387bd15c",
      "cell_type": "markdown",
      "source": "# Time Series Analysis: Financial Data Forecasting\n\n## Project Overview\n\nIn this project, we will perform time series analysis on financial data to forecast future trends. We will leverage Python and advanced statistical methods to explore the data, develop predictive models, and identify meaningful insights to make accurate forecasts.\n\nThe project will be divided into the following sections:\n\n1. **Data Collection and Preprocessing**: Collect and preprocess financial data for analysis.\n2. **Exploratory Data Analysis (EDA)**: Utilize EDA to uncover patterns and trends.\n3. **Time Series Modeling**: Employ various time series models (ARIMA, SARIMA, Prophet) for forecasting.\n4. **Model Evaluation**: Evaluate model performance and identify long-term trends.\n5. **Seasonality Detection**: Detect seasonality patterns in the data.\n\nLet's start with the first step: Data Collection and Preprocessing.",
      "metadata": {
        "noteable": {
          "cell_type": "markdown"
        }
      }
    },
    {
      "id": "227591fd-3fc3-42d2-ab99-d487eb521e88",
      "cell_type": "code",
      "metadata": {
        "noteable": {
          "cell_type": "code",
          "output_collection_id": "28fff020-24a0-4e45-b713-b974b4ef2aff"
        },
        "ExecuteTime": {
          "end_time": "2023-07-27T16:05:08.619269+00:00",
          "start_time": "2023-07-27T16:05:02.459619+00:00"
        }
      },
      "execution_count": null,
      "source": "!pip install -q yfinance",
      "outputs": []
    },
    {
      "id": "7cdefa47-d08a-4c36-933f-6d80519c8075",
      "cell_type": "code",
      "metadata": {
        "noteable": {
          "cell_type": "code",
          "output_collection_id": "8aa2dd14-b460-4b4a-8773-088fc9927d0c"
        },
        "ExecuteTime": {
          "end_time": "2023-07-27T16:05:42.315469+00:00",
          "start_time": "2023-07-27T16:05:41.559558+00:00"
        },
        "datalink": {
          "d7330c97-2e87-487f-96e1-03d8b9cf9929": {
            "applied_filters": [],
            "dataframe_info": {
              "default_index_used": false,
              "orig_num_cols": 1,
              "orig_num_rows": 5,
              "orig_size_bytes": 80,
              "truncated_num_cols": 1,
              "truncated_num_rows": 5,
              "truncated_size_bytes": 80,
              "truncated_string_columns": []
            },
            "display_id": "d7330c97-2e87-487f-96e1-03d8b9cf9929",
            "dx_settings": {
              "ALLOW_NOTEABLE_ATTRS": true,
              "COLUMN_SAMPLING_METHOD": "outer",
              "DB_LOCATION": ":memory:",
              "DEV_MODE": false,
              "DISPLAY_MAX_COLUMNS": 100,
              "DISPLAY_MAX_ROWS": 50000,
              "DISPLAY_MODE": "simple",
              "ENABLE_ASSIGNMENT": true,
              "ENABLE_DATALINK": true,
              "FLATTEN_COLUMN_VALUES": true,
              "FLATTEN_INDEX_VALUES": false,
              "GENERATE_DEX_METADATA": false,
              "HTML_TABLE_SCHEMA": false,
              "LOG_LEVEL": 30,
              "MAX_RENDER_SIZE_BYTES": 104857600,
              "MAX_STRING_LENGTH": 250,
              "NUM_PAST_SAMPLES_TRACKED": 3,
              "RANDOM_STATE": 12648430,
              "RESET_INDEX_VALUES": false,
              "ROW_SAMPLING_METHOD": "random",
              "SAMPLING_FACTOR": 0.1,
              "SAMPLING_METHOD": "random",
              "STRINGIFY_COLUMN_VALUES": true,
              "STRINGIFY_INDEX_VALUES": false
            },
            "sample_history": [],
            "sampling_time": "2023-07-27T16:05:42.158818",
            "user_variable_name": null,
            "variable_name": "unk_dataframe_9ddd08158e734b6c81ee7d81cd31051e"
          }
        }
      },
      "execution_count": null,
      "source": "import yfinance as yf\n\n# Define the ticker symbol\ntickerSymbol = 'AAPL'\n\n# Get data on this ticker\ntickerData = yf.Ticker(tickerSymbol)\n\n# Get the historical prices for this ticker\ntickerDf = tickerData.history(period='5y')\n\n# Select only the close prices\nclose_prices = tickerDf['Close']\nclose_prices.head()",
      "outputs": []
    },
    {
      "id": "2dde4b76-8abb-48a9-92dd-bf75d53614cb",
      "cell_type": "markdown",
      "source": "## Exploratory Data Analysis (EDA)\n\nIn this section, we'll explore our data to uncover patterns and trends. We'll start by visualizing the closing prices over time.",
      "metadata": {
        "noteable": {
          "cell_type": "markdown"
        }
      }
    },
    {
      "id": "1e805aa4-7980-46d2-8b9d-f3e9e3dc232b",
      "cell_type": "code",
      "metadata": {
        "noteable": {
          "cell_type": "code",
          "output_collection_id": "32d2cc7c-e3a3-46ed-a79d-741de58df1b8"
        },
        "ExecuteTime": {
          "end_time": "2023-07-27T16:10:10.210902+00:00",
          "start_time": "2023-07-27T16:10:09.252047+00:00"
        }
      },
      "execution_count": null,
      "source": "import matplotlib.pyplot as plt\n\nplt.figure(figsize=(10, 6))\nclose_prices.plot()\nplt.title('AAPL Closing Prices')\nplt.xlabel('Date')\nplt.ylabel('Price')\nplt.grid(True)\nplt.show()",
      "outputs": []
    },
    {
      "id": "79c8e06e-55c9-4dad-b36e-52d91cfde365",
      "cell_type": "code",
      "metadata": {
        "noteable": {
          "cell_type": "code",
          "output_collection_id": "0e2db96e-2883-4c83-b99e-b552c3815630"
        },
        "ExecuteTime": {
          "end_time": "2023-07-27T16:10:48.511088+00:00",
          "start_time": "2023-07-27T16:10:47.367512+00:00"
        }
      },
      "execution_count": null,
      "source": "from statsmodels.tsa.seasonal import seasonal_decompose\n\n# Decompose the time series\ndecomposition = seasonal_decompose(close_prices, model='multiplicative')\n\n# Plot the decomposed time series\nplt.figure(figsize=(10, 8))\ndecomposition.plot()\nplt.show()",
      "outputs": []
    },
    {
      "id": "895c75f3-ddb9-40a1-afc5-f128ffc837f6",
      "cell_type": "code",
      "metadata": {
        "noteable": {
          "cell_type": "code",
          "output_collection_id": "e27e2388-21ff-42a6-ac01-cdad301916eb"
        },
        "ExecuteTime": {
          "end_time": "2023-07-27T16:11:27.789584+00:00",
          "start_time": "2023-07-27T16:11:26.783873+00:00"
        }
      },
      "execution_count": null,
      "source": "# Decompose the time series with a frequency of 5\ndecomposition = seasonal_decompose(close_prices, model='multiplicative', period=5)\n\n# Plot the decomposed time series\nplt.figure(figsize=(10, 8))\ndecomposition.plot()\nplt.show()",
      "outputs": []
    },
    {
      "id": "f788ff47-3d69-4299-b3a2-432158677060",
      "cell_type": "markdown",
      "source": "## Time Series Modeling\n\nIn this section, we'll build time series forecasting models to predict future closing prices. We'll start with an ARIMA model.\n\nARIMA, which stands for AutoRegressive Integrated Moving Average, is a class of models that is widely used for time series forecasting. ARIMA models take into account three aspects of the data:\n\n- **AR (Autoregression):** The dependency between an observation and a number of lagged observations.\n- **I (Integrated):** The use of differencing of raw observations to make the time series stationary.\n- **MA (Moving Average):** The dependency between an observation and a residual error from a moving average model applied to lagged observations.\n\nBefore we can fit an ARIMA model, we need to determine the order of differencing (d), the number of autoregressive terms (p), and the number of lagged forecast errors in the prediction equation (q). We'll use the `pmdarima` library's `auto_arima` function to automatically select the best parameters based on the Akaike Information Criterion (AIC).",
      "metadata": {
        "noteable": {
          "cell_type": "markdown"
        }
      }
    },
    {
      "id": "1c969502-d149-4d30-a09a-a3253247d1ff",
      "cell_type": "code",
      "metadata": {
        "noteable": {
          "cell_type": "code",
          "output_collection_id": "df6fc9fb-88b7-4713-b697-66fbe6b289ea"
        },
        "ExecuteTime": {
          "end_time": "2023-07-27T16:19:18.344950+00:00",
          "start_time": "2023-07-27T16:19:13.031393+00:00"
        }
      },
      "execution_count": null,
      "source": "!pip install -q pmdarima",
      "outputs": []
    },
    {
      "id": "daa7a405-d86b-41ec-bb55-b9d10613e0b6",
      "cell_type": "code",
      "metadata": {
        "noteable": {
          "cell_type": "code",
          "output_collection_id": "a149e1cc-6707-47a9-9683-12f1586ba6a4"
        },
        "ExecuteTime": {
          "end_time": "2023-07-27T16:22:42.725452+00:00",
          "start_time": "2023-07-27T16:19:58.327867+00:00"
        }
      },
      "execution_count": null,
      "source": "from pmdarima import auto_arima\n\n# Fit auto_arima function to dataset\nstepwise_fit = auto_arima(close_prices, start_p = 1, start_q = 1,\n                          max_p = 3, max_q = 3, m = 5,\n                          start_P = 0, seasonal = True,\n                          d = None, D = 1, trace = True,\n                          error_action ='ignore',   # we don't want to know if an order does not work\n                          suppress_warnings = True,  # we don't want convergence warnings\n                          stepwise = True)           # set to stepwise\n\n# Print the summary\nstepwise_fit.summary()",
      "outputs": []
    },
    {
      "id": "b971a53b-cb0b-45d2-a3a2-8aecc5b84453",
      "cell_type": "code",
      "metadata": {
        "noteable": {
          "cell_type": "code",
          "output_collection_id": "10bd489f-03a8-4bc5-a040-6443c7aa6a63"
        },
        "ExecuteTime": {
          "end_time": "2023-07-27T16:28:01.605134+00:00",
          "start_time": "2023-07-27T16:27:56.644068+00:00"
        }
      },
      "execution_count": null,
      "source": "from statsmodels.tsa.statespace.sarimax import SARIMAX\n\n# Split data into train / test sets\ntrain = close_prices.iloc[:len(close_prices)-12]\ntest = close_prices.iloc[len(close_prices)-12:] # set one year(12 months) for testing\n\n# Fit a SARIMAX(1, 0, 0)x(2, 1, 0, 5) on the training set\nmodel = SARIMAX(train,\n                order = (1, 0, 0),\n                seasonal_order =(2, 1, 0, 5))\n\nresult = model.fit()\nresult.summary()",
      "outputs": []
    },
    {
      "id": "e359df3e-5fa3-4e90-84de-c8d7efcbe10c",
      "cell_type": "code",
      "metadata": {
        "noteable": {
          "cell_type": "code",
          "output_collection_id": "75d5b100-930f-4f30-bd6f-f78d6c05d919"
        },
        "ExecuteTime": {
          "end_time": "2023-07-27T16:28:36.773673+00:00",
          "start_time": "2023-07-27T16:28:36.209955+00:00"
        }
      },
      "execution_count": null,
      "source": "import matplotlib.pyplot as plt\n\n# Predictions for one-year against the test set\npredictions = result.predict(start = len(train), end = len(train) + len(test) - 1, typ = 'levels').rename('Predictions')\n\n# plot predictions and actual values\npredictions.plot(legend = True)\ntest.plot(legend = True)\nplt.title('One-Year Forecast vs Actual Values')\nplt.show()",
      "outputs": []
    },
    {
      "id": "f097e5e9-4761-4ac3-80b7-9cff5436be87",
      "cell_type": "code",
      "metadata": {
        "noteable": {
          "cell_type": "code",
          "output_collection_id": "59c75016-700b-442e-93ff-4974b21f8849"
        },
        "ExecuteTime": {
          "end_time": "2023-07-27T16:29:12.100044+00:00",
          "start_time": "2023-07-27T16:29:11.938091+00:00"
        }
      },
      "execution_count": null,
      "source": "from sklearn.metrics import mean_squared_error, mean_absolute_error\nimport numpy as np\n\n# Calculate error metrics\nmae = mean_absolute_error(test, predictions)\nmse = mean_squared_error(test, predictions)\nrmse = np.sqrt(mse)\n\n{'MAE': mae, 'MSE': mse, 'RMSE': rmse}",
      "outputs": []
    }
  ]
}